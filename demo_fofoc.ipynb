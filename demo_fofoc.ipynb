{
 "cells": [
  {
   "cell_type": "code",
   "execution_count": null,
   "id": "059dc177-5a65-4fc0-bc0d-5bd03205438b",
   "metadata": {},
   "outputs": [],
   "source": [
    "import yaml\n",
    "import networkx as nx\n",
    "import matplotlib.pyplot as plt\n",
    "\n",
    "GRAPH_FILENAME = 'fofoc.yaml'\n",
    "\n",
    "id_to_name = {\n",
    "    225790978: \"Владислав\",\n",
    "    752279211: \"Всеволод\",\n",
    "    202377873: \"Тимофей\",\n",
    "    138716736: \"Илья\",\n",
    "    306787585: \"Мария\",\n",
    "    202038842: \"Олег\",\n",
    "    352418484: \"Михаил\",\n",
    "    142470714: \"Захар\",\n",
    "    203626707: \"Юрий\",\n",
    "    218147810: \"Артем\",\n",
    "    253647021: \"Павел\",\n",
    "    210835290: \"Никита\",\n",
    "    175952275: \"Иван\",\n",
    "    206038535: \"Арсений\",\n",
    "    178728261: \"Лада\"\n",
    "}\n",
    "\n",
    "with open(GRAPH_FILENAME, \"r\") as file:\n",
    "    data = yaml.safe_load(file)\n",
    "\n",
    "G = nx.DiGraph() if data.get('directed', False) else nx.Graph()\n",
    "\n",
    "for node in data['nodes']:\n",
    "    G.add_node(node['id'])\n",
    "\n",
    "for link in data['links']:\n",
    "    G.add_edge(link['source'], link['target'])\n",
    "\n",
    "plt.figure(figsize=(16, 12))\n",
    "pos = nx.kamada_kawai_layout(G)\n",
    "\n",
    "labels = {node['id']: id_to_name.get(node['id'], str(node['id'])) for node in data['nodes'] if node['id'] in id_to_name}\n",
    "\n",
    "nx.draw_networkx_edges(G, pos, edge_color='gray', alpha=0.5)\n",
    "nx.draw_networkx_nodes(G, pos, node_size=50, node_color='skyblue', alpha=0.7)\n",
    "nx.draw_networkx_labels(G, pos, labels, font_size=10, font_color='black', font_weight='bold')\n",
    "\n",
    "plt.title(\"Друзья друзей двух членов группы\")\n",
    "plt.savefig(\"fofoc.png\")\n",
    "\n",
    "plt.show()"
   ]
  },
  {
   "cell_type": "code",
   "execution_count": null,
   "id": "41c04c1b-1265-4a1c-847d-1c98e28b34f7",
   "metadata": {},
   "outputs": [],
   "source": []
  }
 ],
 "metadata": {
  "kernelspec": {
   "display_name": "Python 3 (ipykernel)",
   "language": "python",
   "name": "python3"
  },
  "language_info": {
   "codemirror_mode": {
    "name": "ipython",
    "version": 3
   },
   "file_extension": ".py",
   "mimetype": "text/x-python",
   "name": "python",
   "nbconvert_exporter": "python",
   "pygments_lexer": "ipython3",
   "version": "3.11.2"
  }
 },
 "nbformat": 4,
 "nbformat_minor": 5
}
